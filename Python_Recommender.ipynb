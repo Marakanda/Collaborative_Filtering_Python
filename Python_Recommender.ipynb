{
 "cells": [
  {
   "cell_type": "code",
   "execution_count": null,
   "metadata": {},
   "outputs": [],
   "source": [
    "import pandas as pd\n",
    "import numpy as np\n",
    "from scipy.optimize import minimize\n",
    "\n",
    "df_Y = pd.read_csv('Y.csv', sep=\";\", header=None)\n",
    "df_R = pd.read_csv('R.csv', sep=\";\", header=None)\n",
    "df_Theta = pd.read_csv('Theta.csv', sep=\";\", header=None)\n",
    "df_X = pd.read_csv('X.csv', sep=\";\", header=None)"
   ]
  },
  {
   "cell_type": "code",
   "execution_count": 88,
   "metadata": {},
   "outputs": [],
   "source": [
    "# Tansform DataFrames into numpy arrays\n",
    "\n",
    "X = np.array(df_X.values)\n",
    "Theta = np.array(df_Theta.values)\n",
    "Y = np.array(df_Y.values)\n",
    "R = np.array(df_R.values)"
   ]
  },
  {
   "cell_type": "code",
   "execution_count": 89,
   "metadata": {},
   "outputs": [
    {
     "name": "stdout",
     "output_type": "stream",
     "text": [
      "X_dev = (5, 3)\n",
      "Theta_dev = (4, 3)\n",
      "Y_dev = (5, 4)\n",
      "R_dev = (5, 4)\n"
     ]
    }
   ],
   "source": [
    "# Re-adjust data for development\n",
    "\n",
    "num_users = 4\n",
    "num_movies = 5\n",
    "num_features = 3\n",
    "\n",
    "X_dev = X[:num_movies, :num_features]\n",
    "Theta_dev = Theta[:num_users, :num_features]\n",
    "Y_dev = Y[:num_movies, :num_users]\n",
    "R_dev = R[:num_movies, :num_users]\n",
    "value_lambda_dev = 1.5\n",
    "\n",
    "print(\"X_dev = {}\" .format(X_dev.shape))\n",
    "print(\"Theta_dev = {}\".format(Theta_dev.shape))\n",
    "print(\"Y_dev = {}\".format(Y_dev.shape))\n",
    "print(\"R_dev = {}\".format(R_dev.shape))"
   ]
  },
  {
   "cell_type": "code",
   "execution_count": 90,
   "metadata": {},
   "outputs": [],
   "source": [
    "# Collaborative filtering Cost function\n",
    "\n",
    "def CoFi_Cost(params, Y, R, num_users, num_movies, num_features, val_lambda):\n",
    "    \n",
    "    #Unfold X and Theta from matrices\n",
    "    X = np.array(params[:num_movies*num_features]).reshape(num_movies,num_features).copy()\n",
    "    Theta = np.array(params[num_movies*num_features:]).reshape(num_users,num_features,).copy()\n",
    "    \n",
    "    #Initialization\n",
    "    J = 0 \n",
    "    X_Grad = np.zeros(X.shape)\n",
    "    Theta_Grad = np.zeros(Theta.shape)\n",
    "    \n",
    "    #Penalties\n",
    "    p_Theta = np.power(Theta,2).sum() * (val_lambda / 2)\n",
    "    p_X = np.power(X,2).sum() * (val_lambda / 2)\n",
    "    \n",
    "    #Cost Function\n",
    "    J = np.multiply(np.power((X.dot(Theta.T) - Y),2), R).sum() / 2 + p_Theta + p_X\n",
    "\n",
    "    #Gradients\n",
    "    X_Grad = np.multiply(R,(X.dot(Theta.T) - Y)).dot(Theta)\n",
    "    Theta_Grad = np.multiply(R,X.dot(Theta.T) - Y).T.dot(X)\n",
    "\n",
    "    Grad = np.r_[X_Grad.flatten(),Theta_Grad.flatten()]\n",
    "    \n",
    "    return J, Grad"
   ]
  },
  {
   "cell_type": "code",
   "execution_count": 91,
   "metadata": {},
   "outputs": [],
   "source": [
    "J, Grad = CoFi_Cost(np.r_[X_dev.flatten(), Theta_dev.flatten()],Y_dev, R_dev, num_users, num_movies, num_features, value_lambda_dev)"
   ]
  },
  {
   "cell_type": "code",
   "execution_count": 92,
   "metadata": {},
   "outputs": [
    {
     "data": {
      "text/plain": [
       "31.34405624427422"
      ]
     },
     "execution_count": 92,
     "metadata": {},
     "output_type": "execute_result"
    }
   ],
   "source": [
    "J"
   ]
  },
  {
   "cell_type": "code",
   "execution_count": 93,
   "metadata": {},
   "outputs": [],
   "source": [
    "# Product list\n",
    "\n",
    "df_Product = pd.read_fwf('movie_ids.txt', header=None)\n",
    "Product = np.array(df_Product.values)"
   ]
  },
  {
   "cell_type": "code",
   "execution_count": 94,
   "metadata": {},
   "outputs": [
    {
     "name": "stdout",
     "output_type": "stream",
     "text": [
      "['1 Toy Story (1995)']\n",
      "['7 Twelve Monkeys (1995)']\n",
      "['12 Usual Suspects, The (1995)']\n",
      "['54 Outbreak (1995)']\n",
      "['64 Shawshank Redemption, The (1994)']\n",
      "['66 While You Were Sleeping (1995)']\n",
      "['69 Forrest Gump (1994)']\n",
      "['98 Silence of the Lambs, The (1991)']\n",
      "['183 Alien (1979)']\n",
      "['226 Die Hard 2 (1990)']\n",
      "['355 Sphere (1998)']\n"
     ]
    }
   ],
   "source": [
    "# Add personal Rating\n",
    "\n",
    "Rating = np.zeros(Product.shape)\n",
    "\n",
    "Rating[0] = 4\n",
    "Rating[97] = 2\n",
    "Rating[6] = 3\n",
    "Rating[11] = 5\n",
    "Rating[53] = 4\n",
    "Rating[63] = 5\n",
    "Rating[65] = 3\n",
    "Rating[68] = 5\n",
    "Rating[182] = 4\n",
    "Rating[225] = 5\n",
    "Rating[354] = 5\n",
    "\n",
    "for idx, customer_R in enumerate(Rating):\n",
    "    if customer_R > 0:\n",
    "        print(Product[idx])"
   ]
  },
  {
   "cell_type": "code",
   "execution_count": 95,
   "metadata": {},
   "outputs": [],
   "source": [
    "# Add Customer Rating to data matrix\n",
    "\n",
    "Y = np.c_[Rating, Y]\n",
    "R = np.c_[(Rating > 0).astype(int), R]"
   ]
  },
  {
   "cell_type": "code",
   "execution_count": 96,
   "metadata": {},
   "outputs": [],
   "source": [
    "def normalizeRatings(Y, R):\n",
    "    \"\"\"normalized Y so that each movie has a rating of 0 on average,\n",
    "    and returns the mean rating in Ymean.\n",
    "    \"\"\"\n",
    "\n",
    "    m, n = Y.shape\n",
    "    Ymean = np.zeros(m)\n",
    "    Ynorm = np.zeros(Y.shape)\n",
    "\n",
    "    for i in range(n):\n",
    "        idx = (R[i,:]==1).nonzero()[0]\n",
    "        if len(idx):\n",
    "            Ymean[i] = np.mean(Y[i, idx])\n",
    "            Ynorm[i, idx] = Y[i, idx] - Ymean[i]\n",
    "        else:\n",
    "            Ymean[i] = 0.0\n",
    "            Ynorm[i,idx] = 0.0\n",
    "\n",
    "    return Ynorm, Ymean"
   ]
  },
  {
   "cell_type": "code",
   "execution_count": 97,
   "metadata": {},
   "outputs": [],
   "source": [
    "Ynorm, Ymean = normalizeRatings(Y, R)"
   ]
  },
  {
   "cell_type": "code",
   "execution_count": 98,
   "metadata": {},
   "outputs": [],
   "source": [
    "Ynorm = Y / Y.sum(axis = 1, keepdims = True)\n",
    "#Ymean = Y.mean()"
   ]
  },
  {
   "cell_type": "code",
   "execution_count": 99,
   "metadata": {},
   "outputs": [],
   "source": [
    "# Useful values\n",
    "\n",
    "num_users = Y.shape[1]\n",
    "num_movies = Y.shape[0]\n",
    "num_features = 10"
   ]
  },
  {
   "cell_type": "code",
   "execution_count": 100,
   "metadata": {},
   "outputs": [],
   "source": [
    "X = np.random.rand(num_movies, num_features)\n",
    "Theta = np.random.rand(num_users, num_features)\n",
    "\n",
    "initial_parameters = np.r_[X.flatten(), Theta.flatten()]\n",
    "Lambda = 10"
   ]
  },
  {
   "cell_type": "code",
   "execution_count": 108,
   "metadata": {},
   "outputs": [
    {
     "name": "stdout",
     "output_type": "stream",
     "text": [
      "Warning: Desired error not necessarily achieved due to precision loss.\n",
      "         Current function value: 12473.140214\n",
      "         Iterations: 53\n",
      "         Function evaluations: 172\n",
      "         Gradient evaluations: 160\n"
     ]
    }
   ],
   "source": [
    "costFunc = lambda p: CoFi_Cost(p, Ynorm, R, num_users, num_movies, num_features, Lambda)[0]\n",
    "gradFunc = lambda p: CoFi_Cost(p, Ynorm, R, num_users, num_movies, num_features, Lambda)[1]\n",
    "\n",
    "result = minimize(costFunc, initial_parameters, method='CG', jac=gradFunc, options={'disp': True, 'maxiter': 100.0})\n",
    "theta = result.x\n",
    "cost = result.fun\n",
    "\n",
    "X = theta[:num_movies*num_features].reshape(num_movies, num_features)\n",
    "Theta = theta[num_movies*num_features:].reshape(num_users, num_features)"
   ]
  },
  {
   "cell_type": "code",
   "execution_count": 107,
   "metadata": {},
   "outputs": [
    {
     "name": "stdout",
     "output_type": "stream",
     "text": [
      "\n",
      "Top recommendations for you:\n",
      "Predicting rating 7.6 for movie ['814 Great Day in Harlem, A (1994)']\n",
      "\n",
      "Predicting rating 7.5 for movie ['119 Maya Lin: A Strong Clear Vision (1994)']\n",
      "\n",
      "Predicting rating 6.2 for movie ['711 Substance of Fire, The (1996)']\n",
      "\n",
      "Predicting rating 6.0 for movie ['677 Fire on the Mountain (1996)']\n",
      "\n",
      "Predicting rating 5.9 for movie ['867 Whole Wide World, The (1996)']\n",
      "\n",
      "Predicting rating 5.7 for movie ['113 Horseman on the Roof, The (Hussard sur le toit, Le) (1']\n",
      "\n",
      "Predicting rating 5.7 for movie ['857 Paris Was a Woman (1995)']\n",
      "\n",
      "Predicting rating 5.7 for movie [\"600 Daniel Defoe's Robinson Crusoe (1996)\"]\n",
      "\n",
      "Predicting rating 5.6 for movie ['701 Wonderful, Horrible Life of Leni Riefenstahl, The (199']\n",
      "\n",
      "Predicting rating 5.5 for movie ['850 Perfect Candidate, A (1996)']\n",
      "\n",
      "\n",
      "Original ratings provided:\n",
      "Rated 4 for ['1 Toy Story (1995)']\n",
      "\n",
      "Rated 3 for ['7 Twelve Monkeys (1995)']\n",
      "\n",
      "Rated 5 for ['12 Usual Suspects, The (1995)']\n",
      "\n",
      "Rated 4 for ['54 Outbreak (1995)']\n",
      "\n",
      "Rated 5 for ['64 Shawshank Redemption, The (1994)']\n",
      "\n",
      "Rated 3 for ['66 While You Were Sleeping (1995)']\n",
      "\n",
      "Rated 5 for ['69 Forrest Gump (1994)']\n",
      "\n",
      "Rated 2 for ['98 Silence of the Lambs, The (1991)']\n",
      "\n",
      "Rated 4 for ['183 Alien (1979)']\n",
      "\n",
      "Rated 5 for ['226 Die Hard 2 (1990)']\n",
      "\n",
      "Rated 5 for ['355 Sphere (1998)']\n",
      "\n"
     ]
    }
   ],
   "source": [
    "p = X.dot(Theta.T)\n",
    "my_predictions = p[:, 0] + Ymean\n",
    "\n",
    "movieList = Product\n",
    "\n",
    "# sort predictions descending\n",
    "pre=np.array([[idx, p] for idx, p in enumerate(my_predictions)])\n",
    "post = pre[pre[:,1].argsort()[::-1]]\n",
    "r = post[:,1]\n",
    "ix = post[:,0]\n",
    "\n",
    "print('\\nTop recommendations for you:')\n",
    "for i in range(10):\n",
    "    j = int(ix[i])\n",
    "    print('Predicting rating %.1f for movie %s\\n' % (my_predictions[j], Product[j]))\n",
    "\n",
    "print('\\nOriginal ratings provided:')\n",
    "for i in range(len(Rating)):\n",
    "    if Rating[i] > 0:\n",
    "        print('Rated %d for %s\\n' % (Rating[i], Product[i]))"
   ]
  },
  {
   "cell_type": "code",
   "execution_count": null,
   "metadata": {},
   "outputs": [],
   "source": []
  }
 ],
 "metadata": {
  "kernelspec": {
   "display_name": "Python 3",
   "language": "python",
   "name": "python3"
  },
  "language_info": {
   "codemirror_mode": {
    "name": "ipython",
    "version": 3
   },
   "file_extension": ".py",
   "mimetype": "text/x-python",
   "name": "python",
   "nbconvert_exporter": "python",
   "pygments_lexer": "ipython3",
   "version": "3.6.5"
  },
  "toc": {
   "nav_menu": {},
   "number_sections": true,
   "sideBar": true,
   "skip_h1_title": false,
   "toc_cell": false,
   "toc_position": {},
   "toc_section_display": "block",
   "toc_window_display": false
  }
 },
 "nbformat": 4,
 "nbformat_minor": 2
}
