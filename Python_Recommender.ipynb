{
 "cells": [
  {
   "cell_type": "code",
   "execution_count": 71,
   "metadata": {},
   "outputs": [],
   "source": [
    "import pandas as pd\n",
    "import numpy as np\n",
    "\n",
    "df_Y = pd.read_csv('Y.csv', sep=\";\", header=None)\n",
    "df_R = pd.read_csv('R.csv', sep=\";\", header=None)\n",
    "df_Theta = pd.read_csv('Theta.csv', sep=\";\", header=None)\n",
    "df_X = pd.read_csv('X.csv', sep=\";\", header=None)"
   ]
  },
  {
   "cell_type": "code",
   "execution_count": 72,
   "metadata": {},
   "outputs": [],
   "source": [
    "# Tansform DataFrames into numpy arrays\n",
    "\n",
    "X = np.array(df_X.values)\n",
    "Theta = np.array(df_Theta.values)\n",
    "Y = np.array(df_Y.values)\n",
    "R = np.array(df_R.values)"
   ]
  },
  {
   "cell_type": "code",
   "execution_count": 73,
   "metadata": {},
   "outputs": [],
   "source": [
    "# Re-adjust data for development\n",
    "\n",
    "num_users = 4\n",
    "num_movies = 5\n",
    "num_features = 3\n",
    "\n",
    "X_dev = X[:num_movies, :num_features]\n",
    "Theta_dev = Theta[:num_users, :num_features]\n",
    "Y_dev = Y[:num_movies, :num_users]\n",
    "R_dev = R[:num_movies, :num_users]\n",
    "value_lambda_dev = 1.5 \n",
    "\n",
    "#print(\"X_dev = {}\" .format(X_dev.shape))\n",
    "#print(\"Theta_dev = {}\".format(Theta_dev.shape))\n",
    "#print(\"Y_dev = {}\".format(Y_dev.shape))\n",
    "#print(\"R_dev = {}\".format(R_dev.shape))"
   ]
  },
  {
   "cell_type": "code",
   "execution_count": 74,
   "metadata": {},
   "outputs": [],
   "source": [
    "# Collaborative filtering Cost function\n",
    "\n",
    "def CoFi_Cost(X, Theta, Y, R, val_lambda):\n",
    "    \n",
    "    #Penalties\n",
    "    p_Theta = np.sum(np.power(Theta,2)) * (val_lambda / 2)\n",
    "    p_X = np.sum(np.power(X,2)) * (val_lambda / 2)\n",
    "    \n",
    "    #Cost Function\n",
    "    J = np.sum(np.multiply(np.power((np.dot(X,Theta.T) - Y),2), R)) / 2 + p_Theta + p_X\n",
    "\n",
    "    #Gradients\n",
    "    X_Grad = np.dot(np.multiply(R,(np.dot(X, Theta.T) - Y)),Theta)\n",
    "    Theta_Grad = np.dot(np.multiply(R,np.dot(X, Theta.T) - Y).T,X)\n",
    "    \n",
    "    return X_Grad, Theta_Grad"
   ]
  },
  {
   "cell_type": "code",
   "execution_count": 75,
   "metadata": {},
   "outputs": [],
   "source": [
    "X_G, T_G = CoFi_Cost(X_dev, Theta_dev, Y_dev, R_dev, value_lambda_dev)"
   ]
  },
  {
   "cell_type": "code",
   "execution_count": 76,
   "metadata": {},
   "outputs": [],
   "source": [
    "# Product list\n",
    "\n",
    "df_Product = pd.read_fwf('movie_ids.txt', header=None)\n",
    "Product = np.array(txt.values)"
   ]
  },
  {
   "cell_type": "code",
   "execution_count": 77,
   "metadata": {},
   "outputs": [
    {
     "name": "stdout",
     "output_type": "stream",
     "text": [
      "['1 Toy Story (1995)']\n",
      "['7 Twelve Monkeys (1995)']\n",
      "['12 Usual Suspects, The (1995)']\n",
      "['54 Outbreak (1995)']\n",
      "['64 Shawshank Redemption, The (1994)']\n",
      "['66 While You Were Sleeping (1995)']\n",
      "['69 Forrest Gump (1994)']\n",
      "['98 Silence of the Lambs, The (1991)']\n",
      "['183 Alien (1979)']\n",
      "['226 Die Hard 2 (1990)']\n",
      "['355 Sphere (1998)']\n"
     ]
    }
   ],
   "source": [
    "# Add personal Rating\n",
    "\n",
    "Rating = np.zeros(Product.shape)\n",
    "\n",
    "Rating[0] = 4\n",
    "Rating[97] = 2\n",
    "Rating[6] = 3\n",
    "Rating[11] = 5\n",
    "Rating[53] = 4\n",
    "Rating[63] = 5\n",
    "Rating[65] = 3\n",
    "Rating[68] = 5\n",
    "Rating[182] = 4\n",
    "Rating[225] = 5\n",
    "Rating[354] = 5\n",
    "\n",
    "for idx, customer_R in enumerate(Rating):\n",
    "    if customer_R > 0:\n",
    "        print(Product[idx])"
   ]
  },
  {
   "cell_type": "code",
   "execution_count": 78,
   "metadata": {},
   "outputs": [],
   "source": [
    "# Add Customer Rating to data matrix\n",
    "\n",
    "Y = np.c_[Rating, Y]\n",
    "R = np.c_[(Rating > 0).astype(int), R]"
   ]
  },
  {
   "cell_type": "code",
   "execution_count": 79,
   "metadata": {},
   "outputs": [],
   "source": [
    "Ynorm = Y / Y.sum(axis = 1, keepdims = True)"
   ]
  },
  {
   "cell_type": "code",
   "execution_count": 82,
   "metadata": {},
   "outputs": [],
   "source": [
    "# Useful values\n",
    "\n",
    "num_users = Y.shape[1]\n",
    "num_movies = Y.shape[0]\n",
    "num_features = 10"
   ]
  },
  {
   "cell_type": "code",
   "execution_count": 86,
   "metadata": {},
   "outputs": [],
   "source": [
    "X = np.random.rand(num_movies, num_users)\n",
    "Theta = np.random.rand(num_users, num_features)"
   ]
  },
  {
   "cell_type": "code",
   "execution_count": null,
   "metadata": {},
   "outputs": [],
   "source": []
  }
 ],
 "metadata": {
  "kernelspec": {
   "display_name": "Python 3",
   "language": "python",
   "name": "python3"
  },
  "language_info": {
   "codemirror_mode": {
    "name": "ipython",
    "version": 3
   },
   "file_extension": ".py",
   "mimetype": "text/x-python",
   "name": "python",
   "nbconvert_exporter": "python",
   "pygments_lexer": "ipython3",
   "version": "3.6.5"
  }
 },
 "nbformat": 4,
 "nbformat_minor": 2
}
